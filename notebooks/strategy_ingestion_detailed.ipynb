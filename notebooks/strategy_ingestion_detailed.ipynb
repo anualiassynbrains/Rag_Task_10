{
 "cells": [
  {
   "cell_type": "markdown",
   "id": "409de493",
   "metadata": {},
   "source": [
    "#  Strategy & Ingestion Notebook\n",
    "\n",
    "This notebook outlines the end-to-end process of preparing and querying a semantic retrieval system tailored for legal documents. It covers:\n",
    "\n",
    "1. Mock Data Creation\n",
    "2. Custom Parsing and Chunking\n",
    "3. Embedding and Indexing\n",
    "4. Semantic Search and Response Generation"
   ]
  },
  {
   "cell_type": "markdown",
   "id": "bfdc14ee",
   "metadata": {},
   "source": [
    "## 1.  Mock Data Creation\n",
    "We simulate 15 fake legal judgment documents, each with the following structure:\n",
    "- `metadata_header` (includes case ID)\n",
    "- `summary`\n",
    "- `facts_of_case`\n",
    "- `plaintiff_arguments`\n",
    "- `defendant_arguments`\n",
    "- `verdict`\n",
    "\n",
    "These fields model a real-world legal case breakdown."
   ]
  },
  {
   "cell_type": "markdown",
   "id": "c678bd91",
   "metadata": {},
   "source": [
    "## 2.  Custom Parsing & Chunking\n",
    "We define a function `get_chunk()` to convert each document into 5 distinct chunks:\n",
    "- Each chunk includes the `document_id`, `section_type`, and the actual `text`\n",
    "- This granularity allows semantic search over specific parts like the `verdict` or `arguments`"
   ]
  },
  {
   "cell_type": "code",
   "execution_count": 2,
   "id": "02404483",
   "metadata": {},
   "outputs": [
    {
     "name": "stdout",
     "output_type": "stream",
     "text": [
      "Parsed 100 chunks from 20 documents.\n"
     ]
    }
   ],
   "source": [
    "\n",
    "import json\n",
    "\n",
    "\n",
    "def get_chunk(doc):\n",
    "    doc_id=doc['metadata_header']['case_id']\n",
    "    return [\n",
    "        {\"document_id\": doc_id, \"section_type\": \"summary\", \"text\": doc[\"summary\"]},\n",
    "        {\"document_id\": doc_id, \"section_type\": \"facts_of_case\", \"text\": doc[\"facts_of_case\"]},\n",
    "        {\"document_id\": doc_id, \"section_type\": \"plaintiff_arguments\", \"text\": doc[\"plaintiff_arguments\"]},\n",
    "        {\"document_id\": doc_id, \"section_type\": \"defendant_arguments\", \"text\": doc[\"defendant_arguments\"]},\n",
    "        {\"document_id\": doc_id, \"section_type\": \"verdict\", \"text\": doc[\"verdict\"]}\n",
    "    ]\n",
    "\n",
    "with open(r\"C:\\Users\\hp\\Documents\\synbrains_trainee_works\\ragwork\\ragwork\\mock_legal_data.json\") as f:\n",
    "    documents = json.load(f)\n",
    "\n",
    "all_chunks = []\n",
    "for doc in documents:\n",
    "    all_chunks.extend(get_chunk(doc))\n",
    "\n",
    "print(f\"Parsed {len(all_chunks)} chunks from {len(documents)} documents.\")\n",
    "    "
   ]
  },
  {
   "cell_type": "markdown",
   "id": "3ceaa2fd",
   "metadata": {},
   "source": [
    "## 3.  Embedding & Indexing\n",
    "We use `all-MiniLM-L6-v2` from SentenceTransformers to convert all chunk texts into dense vector embeddings. These are saved using `pickle` for later retrieval."
   ]
  },
  {
   "cell_type": "code",
   "execution_count": 3,
   "id": "207540f2",
   "metadata": {},
   "outputs": [
    {
     "name": "stderr",
     "output_type": "stream",
     "text": [
      "c:\\Users\\hp\\miniconda3\\Lib\\site-packages\\tqdm\\auto.py:21: TqdmWarning: IProgress not found. Please update jupyter and ipywidgets. See https://ipywidgets.readthedocs.io/en/stable/user_install.html\n",
      "  from .autonotebook import tqdm as notebook_tqdm\n"
     ]
    },
    {
     "name": "stdout",
     "output_type": "stream",
     "text": [
      "Embeddings saved to embeddings.pkl\n"
     ]
    }
   ],
   "source": [
    "\n",
    "import os\n",
    "from sentence_transformers import SentenceTransformer\n",
    "import pickle\n",
    "\n",
    "os.environ[\"TRANSFORMERS_NO_TF\"] = \"1\"  \n",
    "\n",
    "model = SentenceTransformer(\"all-MiniLM-L6-v2\")\n",
    "texts = [chunk[\"text\"] for chunk in all_chunks]\n",
    "embeddings = model.encode(texts)\n",
    "\n",
    "with open(\"embeddings.pkl\", \"wb\") as f:\n",
    "    pickle.dump({\"chunks\": all_chunks, \"embeddings\": embeddings}, f)\n",
    "\n",
    "print(\"Embeddings saved to embeddings.pkl\")\n",
    "    "
   ]
  },
  {
   "cell_type": "markdown",
   "id": "9cda8580",
   "metadata": {},
   "source": [
    "## 4.  Semantic Retrieval + LLM Synthesis\n",
    "We:\n",
    "- Load embeddings and compute cosine similarity for ranking\n",
    "- Retrieve the top-k most relevant chunks\n",
    "- Format these into a prompt and pass it to an LLM (via Langchain-Groq)\n",
    "- Return a natural language answer"
   ]
  },
  {
   "cell_type": "code",
   "execution_count": 4,
   "id": "b2d4f573",
   "metadata": {},
   "outputs": [
    {
     "name": "stdout",
     "output_type": "stream",
     "text": [
      "Answer:\n",
      " The verdict in the product liability case is that the court finds for the plaintiff and awards $180,000 in damages.\n"
     ]
    }
   ],
   "source": [
    "\n",
    "import pickle\n",
    "from sklearn.metrics.pairwise import cosine_similarity\n",
    "from langchain_groq import ChatGroq\n",
    "from dotenv import load_dotenv\n",
    "\n",
    "from sentence_transformers import SentenceTransformer\n",
    "\n",
    "load_dotenv()\n",
    "llm = ChatGroq(groq_api_key=os.getenv(\"GROQ_API_KEY\"), model_name=\"llama3-8b-8192\")\n",
    "model = SentenceTransformer(\"all-MiniLM-L6-v2\")\n",
    "\n",
    "def retrieve(query, index_path=\"embeddings.pkl\", top_k=3):\n",
    "    with open(index_path, \"rb\") as f:\n",
    "        data = pickle.load(f)\n",
    "    chunks = data[\"chunks\"]\n",
    "    embeddings = data[\"embeddings\"]\n",
    "    query_embedding = model.encode([query])\n",
    "    sims = cosine_similarity(query_embedding, embeddings)[0]\n",
    "    top_indices = sims.argsort()[::-1][:top_k]\n",
    "    return [chunks[i] for i in top_indices]\n",
    "\n",
    "def generate_response(query, retrieved_chunks):\n",
    "    context = \"\\n\\n\".join(f\"[{c['document_id']} - {c['section_type']}]\\n{c['text']}\" for c in retrieved_chunks)\n",
    "    prompt = f\"Query: {query}\\n\\nContext:\\n{context}\\n\\nAnswer:\"\n",
    "    return llm.invoke(input=prompt).content.strip()\n",
    "\n",
    "query = \"What was the verdict in the product liability case?\"\n",
    "top_chunks = retrieve(query)\n",
    "response = generate_response(query, top_chunks)\n",
    "\n",
    "print(\"Answer:\\n\", response)\n",
    "    "
   ]
  }
 ],
 "metadata": {
  "kernelspec": {
   "display_name": "base",
   "language": "python",
   "name": "python3"
  },
  "language_info": {
   "codemirror_mode": {
    "name": "ipython",
    "version": 3
   },
   "file_extension": ".py",
   "mimetype": "text/x-python",
   "name": "python",
   "nbconvert_exporter": "python",
   "pygments_lexer": "ipython3",
   "version": "3.13.2"
  }
 },
 "nbformat": 4,
 "nbformat_minor": 5
}
